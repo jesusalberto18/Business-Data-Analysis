{
 "cells": [
  {
   "cell_type": "markdown",
   "id": "c3b82c7d",
   "metadata": {},
   "source": [
    "# E-COMMERCE BUSINESS TRANSACTION ANALYSIS"
   ]
  },
  {
   "cell_type": "markdown",
   "id": "d4b6766a",
   "metadata": {},
   "source": [
    "## This analysis is based on the sales transaction data set out of a UK-based B2C e-commerce company (online retail) during the period of one year."
   ]
  },
  {
   "cell_type": "markdown",
   "id": "8be8e5cb",
   "metadata": {},
   "source": [
    "#### E-commerce has become a new channel to support businesses development. Through e-commerce, businesses can get access and establish a wider market presence by providing cheaper and more efficient distribution channels for their products or services. E-commerce has also changed the way people shop and consume products and services. Many people are turning to their computers or smart devices to order goods, which can easily be delivered to their homes."
   ]
  },
  {
   "cell_type": "markdown",
   "id": "beacb49b",
   "metadata": {},
   "source": [
    "We have to import the libraries that we'll use to handle our data."
   ]
  },
  {
   "cell_type": "code",
   "execution_count": 1,
   "id": "fb4e4b9e",
   "metadata": {},
   "outputs": [],
   "source": [
    "import pandas as pd\n",
    "import numpy as np"
   ]
  },
  {
   "cell_type": "markdown",
   "id": "f1eac682",
   "metadata": {},
   "source": [
    "We import the dataset that contains all the data for our analysis."
   ]
  },
  {
   "cell_type": "code",
   "execution_count": 2,
   "id": "380ea269",
   "metadata": {},
   "outputs": [],
   "source": [
    "df = pd.read_csv(\"ecommerce.csv\")"
   ]
  },
  {
   "cell_type": "markdown",
   "id": "33b3b354",
   "metadata": {},
   "source": [
    "Now we have to check the information contained into our dataset."
   ]
  },
  {
   "cell_type": "code",
   "execution_count": 3,
   "id": "475a7e28",
   "metadata": {},
   "outputs": [
    {
     "data": {
      "text/html": [
       "<div>\n",
       "<style scoped>\n",
       "    .dataframe tbody tr th:only-of-type {\n",
       "        vertical-align: middle;\n",
       "    }\n",
       "\n",
       "    .dataframe tbody tr th {\n",
       "        vertical-align: top;\n",
       "    }\n",
       "\n",
       "    .dataframe thead th {\n",
       "        text-align: right;\n",
       "    }\n",
       "</style>\n",
       "<table border=\"1\" class=\"dataframe\">\n",
       "  <thead>\n",
       "    <tr style=\"text-align: right;\">\n",
       "      <th></th>\n",
       "      <th>TransactionNo</th>\n",
       "      <th>Date</th>\n",
       "      <th>ProductNo</th>\n",
       "      <th>ProductName</th>\n",
       "      <th>Price</th>\n",
       "      <th>Quantity</th>\n",
       "      <th>CustomerNo</th>\n",
       "      <th>Country</th>\n",
       "    </tr>\n",
       "  </thead>\n",
       "  <tbody>\n",
       "    <tr>\n",
       "      <th>0</th>\n",
       "      <td>581482</td>\n",
       "      <td>12/9/2019</td>\n",
       "      <td>22485</td>\n",
       "      <td>Set Of 2 Wooden Market Crates</td>\n",
       "      <td>21.47</td>\n",
       "      <td>12</td>\n",
       "      <td>17490.0</td>\n",
       "      <td>United Kingdom</td>\n",
       "    </tr>\n",
       "    <tr>\n",
       "      <th>1</th>\n",
       "      <td>581475</td>\n",
       "      <td>12/9/2019</td>\n",
       "      <td>22596</td>\n",
       "      <td>Christmas Star Wish List Chalkboard</td>\n",
       "      <td>10.65</td>\n",
       "      <td>36</td>\n",
       "      <td>13069.0</td>\n",
       "      <td>United Kingdom</td>\n",
       "    </tr>\n",
       "    <tr>\n",
       "      <th>2</th>\n",
       "      <td>581475</td>\n",
       "      <td>12/9/2019</td>\n",
       "      <td>23235</td>\n",
       "      <td>Storage Tin Vintage Leaf</td>\n",
       "      <td>11.53</td>\n",
       "      <td>12</td>\n",
       "      <td>13069.0</td>\n",
       "      <td>United Kingdom</td>\n",
       "    </tr>\n",
       "    <tr>\n",
       "      <th>3</th>\n",
       "      <td>581475</td>\n",
       "      <td>12/9/2019</td>\n",
       "      <td>23272</td>\n",
       "      <td>Tree T-Light Holder Willie Winkie</td>\n",
       "      <td>10.65</td>\n",
       "      <td>12</td>\n",
       "      <td>13069.0</td>\n",
       "      <td>United Kingdom</td>\n",
       "    </tr>\n",
       "    <tr>\n",
       "      <th>4</th>\n",
       "      <td>581475</td>\n",
       "      <td>12/9/2019</td>\n",
       "      <td>23239</td>\n",
       "      <td>Set Of 4 Knick Knack Tins Poppies</td>\n",
       "      <td>11.94</td>\n",
       "      <td>6</td>\n",
       "      <td>13069.0</td>\n",
       "      <td>United Kingdom</td>\n",
       "    </tr>\n",
       "  </tbody>\n",
       "</table>\n",
       "</div>"
      ],
      "text/plain": [
       "  TransactionNo       Date ProductNo                          ProductName  \\\n",
       "0        581482  12/9/2019     22485        Set Of 2 Wooden Market Crates   \n",
       "1        581475  12/9/2019     22596  Christmas Star Wish List Chalkboard   \n",
       "2        581475  12/9/2019     23235             Storage Tin Vintage Leaf   \n",
       "3        581475  12/9/2019     23272    Tree T-Light Holder Willie Winkie   \n",
       "4        581475  12/9/2019     23239    Set Of 4 Knick Knack Tins Poppies   \n",
       "\n",
       "   Price  Quantity  CustomerNo         Country  \n",
       "0  21.47        12     17490.0  United Kingdom  \n",
       "1  10.65        36     13069.0  United Kingdom  \n",
       "2  11.53        12     13069.0  United Kingdom  \n",
       "3  10.65        12     13069.0  United Kingdom  \n",
       "4  11.94         6     13069.0  United Kingdom  "
      ]
     },
     "execution_count": 3,
     "metadata": {},
     "output_type": "execute_result"
    }
   ],
   "source": [
    "df.head()"
   ]
  },
  {
   "cell_type": "code",
   "execution_count": 4,
   "id": "4a917485",
   "metadata": {},
   "outputs": [
    {
     "data": {
      "text/html": [
       "<div>\n",
       "<style scoped>\n",
       "    .dataframe tbody tr th:only-of-type {\n",
       "        vertical-align: middle;\n",
       "    }\n",
       "\n",
       "    .dataframe tbody tr th {\n",
       "        vertical-align: top;\n",
       "    }\n",
       "\n",
       "    .dataframe thead th {\n",
       "        text-align: right;\n",
       "    }\n",
       "</style>\n",
       "<table border=\"1\" class=\"dataframe\">\n",
       "  <thead>\n",
       "    <tr style=\"text-align: right;\">\n",
       "      <th></th>\n",
       "      <th>TransactionNo</th>\n",
       "      <th>Date</th>\n",
       "      <th>ProductNo</th>\n",
       "      <th>ProductName</th>\n",
       "      <th>Price</th>\n",
       "      <th>Quantity</th>\n",
       "      <th>CustomerNo</th>\n",
       "      <th>Country</th>\n",
       "    </tr>\n",
       "  </thead>\n",
       "  <tbody>\n",
       "    <tr>\n",
       "      <th>536345</th>\n",
       "      <td>C536548</td>\n",
       "      <td>12/1/2018</td>\n",
       "      <td>22168</td>\n",
       "      <td>Organiser Wood Antique White</td>\n",
       "      <td>18.96</td>\n",
       "      <td>-2</td>\n",
       "      <td>12472.0</td>\n",
       "      <td>Germany</td>\n",
       "    </tr>\n",
       "    <tr>\n",
       "      <th>536346</th>\n",
       "      <td>C536548</td>\n",
       "      <td>12/1/2018</td>\n",
       "      <td>21218</td>\n",
       "      <td>Red Spotty Biscuit Tin</td>\n",
       "      <td>14.09</td>\n",
       "      <td>-3</td>\n",
       "      <td>12472.0</td>\n",
       "      <td>Germany</td>\n",
       "    </tr>\n",
       "    <tr>\n",
       "      <th>536347</th>\n",
       "      <td>C536548</td>\n",
       "      <td>12/1/2018</td>\n",
       "      <td>20957</td>\n",
       "      <td>Porcelain Hanging Bell Small</td>\n",
       "      <td>11.74</td>\n",
       "      <td>-1</td>\n",
       "      <td>12472.0</td>\n",
       "      <td>Germany</td>\n",
       "    </tr>\n",
       "    <tr>\n",
       "      <th>536348</th>\n",
       "      <td>C536548</td>\n",
       "      <td>12/1/2018</td>\n",
       "      <td>22580</td>\n",
       "      <td>Advent Calendar Gingham Sack</td>\n",
       "      <td>16.35</td>\n",
       "      <td>-4</td>\n",
       "      <td>12472.0</td>\n",
       "      <td>Germany</td>\n",
       "    </tr>\n",
       "    <tr>\n",
       "      <th>536349</th>\n",
       "      <td>C536548</td>\n",
       "      <td>12/1/2018</td>\n",
       "      <td>22767</td>\n",
       "      <td>Triple Photo Frame Cornice</td>\n",
       "      <td>20.45</td>\n",
       "      <td>-2</td>\n",
       "      <td>12472.0</td>\n",
       "      <td>Germany</td>\n",
       "    </tr>\n",
       "  </tbody>\n",
       "</table>\n",
       "</div>"
      ],
      "text/plain": [
       "       TransactionNo       Date ProductNo                   ProductName  \\\n",
       "536345       C536548  12/1/2018     22168  Organiser Wood Antique White   \n",
       "536346       C536548  12/1/2018     21218        Red Spotty Biscuit Tin   \n",
       "536347       C536548  12/1/2018     20957  Porcelain Hanging Bell Small   \n",
       "536348       C536548  12/1/2018     22580  Advent Calendar Gingham Sack   \n",
       "536349       C536548  12/1/2018     22767    Triple Photo Frame Cornice   \n",
       "\n",
       "        Price  Quantity  CustomerNo  Country  \n",
       "536345  18.96        -2     12472.0  Germany  \n",
       "536346  14.09        -3     12472.0  Germany  \n",
       "536347  11.74        -1     12472.0  Germany  \n",
       "536348  16.35        -4     12472.0  Germany  \n",
       "536349  20.45        -2     12472.0  Germany  "
      ]
     },
     "execution_count": 4,
     "metadata": {},
     "output_type": "execute_result"
    }
   ],
   "source": [
    "df.tail()"
   ]
  },
  {
   "cell_type": "code",
   "execution_count": 5,
   "id": "399a4e55",
   "metadata": {},
   "outputs": [
    {
     "name": "stdout",
     "output_type": "stream",
     "text": [
      "<class 'pandas.core.frame.DataFrame'>\n",
      "RangeIndex: 536350 entries, 0 to 536349\n",
      "Data columns (total 8 columns):\n",
      " #   Column         Non-Null Count   Dtype  \n",
      "---  ------         --------------   -----  \n",
      " 0   TransactionNo  536350 non-null  object \n",
      " 1   Date           536350 non-null  object \n",
      " 2   ProductNo      536350 non-null  object \n",
      " 3   ProductName    536350 non-null  object \n",
      " 4   Price          536350 non-null  float64\n",
      " 5   Quantity       536350 non-null  int64  \n",
      " 6   CustomerNo     536295 non-null  float64\n",
      " 7   Country        536350 non-null  object \n",
      "dtypes: float64(2), int64(1), object(5)\n",
      "memory usage: 22.5+ MB\n"
     ]
    }
   ],
   "source": [
    "df.info()"
   ]
  },
  {
   "cell_type": "markdown",
   "id": "0ea7fc12",
   "metadata": {},
   "source": [
    "##### Our dataset has 8 columns, the description of their content is as follow:"
   ]
  },
  {
   "cell_type": "markdown",
   "id": "6760193a",
   "metadata": {},
   "source": [
    "1. TransactionNo (categorical): a six-digit unique number that defines each transaction. The letter “C” in the code indicates a cancellation."
   ]
  },
  {
   "cell_type": "markdown",
   "id": "3731ab70",
   "metadata": {},
   "source": [
    "2. Date (numeric): the date when each transaction was generated."
   ]
  },
  {
   "cell_type": "markdown",
   "id": "a5322281",
   "metadata": {},
   "source": [
    "3. ProductNo (categorical): a five or six-digit unique character used to identify a specific product."
   ]
  },
  {
   "cell_type": "markdown",
   "id": "05e97d6b",
   "metadata": {},
   "source": [
    "4. Product (categorical): product/item name."
   ]
  },
  {
   "cell_type": "markdown",
   "id": "23b7dbd7",
   "metadata": {},
   "source": [
    "5. Price (numeric): the price of each product per unit in pound sterling (£)."
   ]
  },
  {
   "cell_type": "markdown",
   "id": "800ccd49",
   "metadata": {},
   "source": [
    "6. Quantity (numeric): the quantity of each product per transaction. Negative values related to cancelled transactions."
   ]
  },
  {
   "cell_type": "markdown",
   "id": "f8360653",
   "metadata": {},
   "source": [
    "7. CustomerNo (categorical): a five-digit unique number that defines each customer."
   ]
  },
  {
   "cell_type": "markdown",
   "id": "b1cdc412",
   "metadata": {},
   "source": [
    "8. Country (categorical): name of the country where the customer resides."
   ]
  },
  {
   "cell_type": "markdown",
   "id": "8c70062e",
   "metadata": {},
   "source": [
    "##### DISCLAIMER: "
   ]
  },
  {
   "cell_type": "markdown",
   "id": "e53a6ef8",
   "metadata": {},
   "source": [
    "```\n",
    "For the correct interpretation of this analysis we have to be aware that there is a small percentage of order cancellation in the data set. These cancellations were due to out-of-stock conditions on some products. Under this situation, customers tend to cancel an order as they want all products delivered all at once. These cancellations are represented in negative numbers in the 'Quantity' column.\n",
    "```"
   ]
  },
  {
   "cell_type": "markdown",
   "id": "92878236",
   "metadata": {},
   "source": [
    "The first thing that we're going to check is if there are people interested in the products offered, and since this is an online retail that sells worlwide, we're also interested in knowing where all these sells are coming from. Here we can see all the countries where this e-commerce's customers are from:"
   ]
  },
  {
   "cell_type": "code",
   "execution_count": 6,
   "id": "279a76af",
   "metadata": {
    "scrolled": false
   },
   "outputs": [
    {
     "name": "stdout",
     "output_type": "stream",
     "text": [
      "Country\n",
      "Australia                 1704\n",
      "Austria                    887\n",
      "Bahrain                     17\n",
      "Belgium                   2539\n",
      "Brazil                      31\n",
      "Canada                     150\n",
      "Channel Islands            629\n",
      "Cyprus                     582\n",
      "Czech Republic              28\n",
      "Denmark                    416\n",
      "EIRE                      8048\n",
      "European Community          58\n",
      "Finland                    692\n",
      "France                   10526\n",
      "Germany                  10675\n",
      "Greece                      67\n",
      "Hong Kong                  153\n",
      "Iceland                    787\n",
      "Israel                     358\n",
      "Italy                      661\n",
      "Japan                      371\n",
      "Lebanon                     45\n",
      "Lithuania                   34\n",
      "Malta                      149\n",
      "Netherlands               2330\n",
      "Norway                     938\n",
      "Poland                     174\n",
      "Portugal                  1848\n",
      "RSA                         57\n",
      "Saudi Arabia                10\n",
      "Singapore                  215\n",
      "Spain                     2430\n",
      "Sweden                     417\n",
      "Switzerland               2336\n",
      "USA                        379\n",
      "United Arab Emirates        67\n",
      "United Kingdom          485095\n",
      "Unspecified                447\n",
      "dtype: int64\n"
     ]
    }
   ],
   "source": [
    "print(df.groupby('Country').size())"
   ]
  },
  {
   "cell_type": "markdown",
   "id": "b01da08e",
   "metadata": {},
   "source": [
    "It's not a surprise to see that a huge majority of customers reside in UK (485095), followed by those in other countries from Europe like Germany (10675), France (10526), Ireland (8048), Spain (2430), Netherlands (2330) or Switzerland (2336)."
   ]
  },
  {
   "cell_type": "markdown",
   "id": "37d74ad6",
   "metadata": {},
   "source": [
    "Now we want to know what's the average price that customers have paid in each country where this e-commerce made a transaction:"
   ]
  },
  {
   "cell_type": "code",
   "execution_count": 7,
   "id": "32254048",
   "metadata": {},
   "outputs": [
    {
     "name": "stdout",
     "output_type": "stream",
     "text": [
      "                          Price\n",
      "Country                        \n",
      "Australia             12.774536\n",
      "Austria               13.733980\n",
      "Bahrain               15.010000\n",
      "Belgium               13.185282\n",
      "Brazil                14.382903\n",
      "Canada                12.348467\n",
      "Channel Islands       13.585199\n",
      "Cyprus                19.033368\n",
      "Czech Republic        11.866786\n",
      "Denmark               12.472885\n",
      "EIRE                  13.037793\n",
      "European Community    14.597241\n",
      "Finland               12.617977\n",
      "France                12.422292\n",
      "Germany               12.596319\n",
      "Greece                11.540149\n",
      "Hong Kong             13.394183\n",
      "Iceland                7.867891\n",
      "Israel                13.315335\n",
      "Italy                 13.323510\n",
      "Japan                 12.096092\n",
      "Lebanon               15.771111\n",
      "Lithuania             13.066471\n",
      "Malta                 13.580336\n",
      "Netherlands           11.888781\n",
      "Norway                12.611418\n",
      "Poland                13.888333\n",
      "Portugal              11.986640\n",
      "RSA                   14.070175\n",
      "Saudi Arabia          12.720000\n",
      "Singapore             16.277116\n",
      "Spain                 13.414667\n",
      "Sweden                12.177314\n",
      "Switzerland           13.068044\n",
      "USA                   12.153087\n",
      "United Arab Emirates  13.192239\n",
      "United Kingdom        12.653651\n",
      "Unspecified           13.003378\n"
     ]
    }
   ],
   "source": [
    "ctry_mean = df.groupby('Country').mean()\n",
    "ctry_mean = ctry_mean[[\"Price\"]]\n",
    "print(ctry_mean)"
   ]
  },
  {
   "cell_type": "code",
   "execution_count": 8,
   "id": "0b005e56",
   "metadata": {},
   "outputs": [],
   "source": [
    "ctry_mean.to_csv('ctry_mean.csv')"
   ]
  },
  {
   "cell_type": "markdown",
   "id": "69541fef",
   "metadata": {},
   "source": [
    "Then we'll look for the minimum price customers paid in each country:"
   ]
  },
  {
   "cell_type": "code",
   "execution_count": 9,
   "id": "26639121",
   "metadata": {},
   "outputs": [
    {
     "name": "stdout",
     "output_type": "stream",
     "text": [
      "                      Price\n",
      "Country                    \n",
      "Australia              5.13\n",
      "Austria                5.55\n",
      "Bahrain               11.53\n",
      "Belgium                5.97\n",
      "Brazil                 5.97\n",
      "Canada                 5.97\n",
      "Channel Islands        5.97\n",
      "Cyprus                 5.97\n",
      "Czech Republic        10.55\n",
      "Denmark                5.46\n",
      "EIRE                   5.46\n",
      "European Community    10.81\n",
      "Finland                5.97\n",
      "France                 5.46\n",
      "Germany                5.34\n",
      "Greece                 6.04\n",
      "Hong Kong              5.97\n",
      "Iceland                5.13\n",
      "Israel                 5.97\n",
      "Italy                  5.97\n",
      "Japan                  5.87\n",
      "Lebanon               10.81\n",
      "Lithuania             11.53\n",
      "Malta                  5.97\n",
      "Netherlands            5.55\n",
      "Norway                 6.04\n",
      "Poland                10.65\n",
      "Portugal               5.55\n",
      "RSA                    5.97\n",
      "Saudi Arabia          10.68\n",
      "Singapore              6.13\n",
      "Spain                  5.46\n",
      "Sweden                 5.46\n",
      "Switzerland            5.46\n",
      "USA                    5.97\n",
      "United Arab Emirates  10.55\n",
      "United Kingdom         5.13\n",
      "Unspecified            5.97\n"
     ]
    }
   ],
   "source": [
    "ctry_min = df.groupby('Country').min()\n",
    "ctry_min = ctry_min[['Price']]\n",
    "print(ctry_min)"
   ]
  },
  {
   "cell_type": "code",
   "execution_count": 10,
   "id": "b6803195",
   "metadata": {},
   "outputs": [
    {
     "data": {
      "text/plain": [
       "Price    5.13\n",
       "dtype: float64"
      ]
     },
     "execution_count": 10,
     "metadata": {},
     "output_type": "execute_result"
    }
   ],
   "source": [
    "ctry_min.min()"
   ]
  },
  {
   "cell_type": "code",
   "execution_count": 11,
   "id": "f5381b8e",
   "metadata": {},
   "outputs": [],
   "source": [
    "ctry_min.to_csv('ctry_min.csv')"
   ]
  },
  {
   "cell_type": "markdown",
   "id": "ff876f7a",
   "metadata": {},
   "source": [
    "As well as the maximum prices customers have paid in each country:"
   ]
  },
  {
   "cell_type": "code",
   "execution_count": 12,
   "id": "16b5b0be",
   "metadata": {},
   "outputs": [
    {
     "name": "stdout",
     "output_type": "stream",
     "text": [
      "                       Price\n",
      "Country                     \n",
      "Australia              44.37\n",
      "Austria                40.11\n",
      "Bahrain                23.32\n",
      "Belgium                51.20\n",
      "Brazil                 21.47\n",
      "Canada                 23.32\n",
      "Channel Islands        35.82\n",
      "Cyprus                660.62\n",
      "Czech Republic         15.32\n",
      "Denmark                27.62\n",
      "EIRE                  179.37\n",
      "European Community     25.57\n",
      "Finland                35.82\n",
      "France                 54.27\n",
      "Germany                70.00\n",
      "Greece                 25.57\n",
      "Hong Kong              27.62\n",
      "Iceland                23.32\n",
      "Israel                138.38\n",
      "Italy                  51.20\n",
      "Japan                  25.57\n",
      "Lebanon                25.57\n",
      "Lithuania              16.35\n",
      "Malta                  26.60\n",
      "Netherlands           123.00\n",
      "Norway                 35.82\n",
      "Poland                 51.20\n",
      "Portugal               40.95\n",
      "RSA                    25.57\n",
      "Saudi Arabia           15.88\n",
      "Singapore             660.62\n",
      "Spain                  76.88\n",
      "Sweden                 25.57\n",
      "Switzerland            44.37\n",
      "USA                    35.83\n",
      "United Arab Emirates   25.57\n",
      "United Kingdom        660.62\n",
      "Unspecified            27.62\n"
     ]
    }
   ],
   "source": [
    "ctry_max = df.groupby('Country').max()\n",
    "ctry_max = ctry_max[['Price']]\n",
    "print(ctry_max)"
   ]
  },
  {
   "cell_type": "code",
   "execution_count": 13,
   "id": "02f4beec",
   "metadata": {},
   "outputs": [
    {
     "data": {
      "text/plain": [
       "Price    660.62\n",
       "dtype: float64"
      ]
     },
     "execution_count": 13,
     "metadata": {},
     "output_type": "execute_result"
    }
   ],
   "source": [
    "ctry_max.max()"
   ]
  },
  {
   "cell_type": "code",
   "execution_count": 14,
   "id": "23d21c5e",
   "metadata": {},
   "outputs": [],
   "source": [
    "ctry_max.to_csv('ctry_max.csv')"
   ]
  },
  {
   "cell_type": "markdown",
   "id": "1bbe16e6",
   "metadata": {},
   "source": [
    "Now we just have left to look for the highest quantity ever sold at once."
   ]
  },
  {
   "cell_type": "code",
   "execution_count": 15,
   "id": "a7b1496f",
   "metadata": {},
   "outputs": [
    {
     "name": "stdout",
     "output_type": "stream",
     "text": [
      "                                  Quantity\n",
      "ProductName                               \n",
      "10 Colour Spaceboy Pen                 288\n",
      "12 Coloured Party Balloons             100\n",
      "12 Daisy Pegs In Wood Box               24\n",
      "12 Egg House Painted Wood                8\n",
      "12 Hanging Eggs Hand Painted            10\n",
      "...                                    ...\n",
      "Zinc T-Light Holder Stars Small        216\n",
      "Zinc Top 2 Door Wooden Shelf             2\n",
      "Zinc Willie Winkie Candle Stick        192\n",
      "Zinc Wire Kitchen Organiser              4\n",
      "Zinc Wire Sweetheart Letter Tray        24\n",
      "\n",
      "[3768 rows x 1 columns]\n"
     ]
    }
   ],
   "source": [
    "qty_max = df.groupby('ProductName').max()\n",
    "qty_max = qty_max[['Quantity']]\n",
    "print(qty_max)"
   ]
  },
  {
   "cell_type": "code",
   "execution_count": 16,
   "id": "8be1722d",
   "metadata": {},
   "outputs": [
    {
     "data": {
      "text/html": [
       "<div>\n",
       "<style scoped>\n",
       "    .dataframe tbody tr th:only-of-type {\n",
       "        vertical-align: middle;\n",
       "    }\n",
       "\n",
       "    .dataframe tbody tr th {\n",
       "        vertical-align: top;\n",
       "    }\n",
       "\n",
       "    .dataframe thead th {\n",
       "        text-align: right;\n",
       "    }\n",
       "</style>\n",
       "<table border=\"1\" class=\"dataframe\">\n",
       "  <thead>\n",
       "    <tr style=\"text-align: right;\">\n",
       "      <th></th>\n",
       "      <th>Quantity</th>\n",
       "    </tr>\n",
       "  </thead>\n",
       "  <tbody>\n",
       "    <tr>\n",
       "      <th>count</th>\n",
       "      <td>3768.000000</td>\n",
       "    </tr>\n",
       "    <tr>\n",
       "      <th>mean</th>\n",
       "      <td>174.051752</td>\n",
       "    </tr>\n",
       "    <tr>\n",
       "      <th>std</th>\n",
       "      <td>1817.804416</td>\n",
       "    </tr>\n",
       "    <tr>\n",
       "      <th>min</th>\n",
       "      <td>-200.000000</td>\n",
       "    </tr>\n",
       "    <tr>\n",
       "      <th>25%</th>\n",
       "      <td>12.000000</td>\n",
       "    </tr>\n",
       "    <tr>\n",
       "      <th>50%</th>\n",
       "      <td>48.000000</td>\n",
       "    </tr>\n",
       "    <tr>\n",
       "      <th>75%</th>\n",
       "      <td>144.000000</td>\n",
       "    </tr>\n",
       "    <tr>\n",
       "      <th>max</th>\n",
       "      <td>80995.000000</td>\n",
       "    </tr>\n",
       "  </tbody>\n",
       "</table>\n",
       "</div>"
      ],
      "text/plain": [
       "           Quantity\n",
       "count   3768.000000\n",
       "mean     174.051752\n",
       "std     1817.804416\n",
       "min     -200.000000\n",
       "25%       12.000000\n",
       "50%       48.000000\n",
       "75%      144.000000\n",
       "max    80995.000000"
      ]
     },
     "execution_count": 16,
     "metadata": {},
     "output_type": "execute_result"
    }
   ],
   "source": [
    "qty_max.describe()"
   ]
  },
  {
   "cell_type": "code",
   "execution_count": 17,
   "id": "5acb45cc",
   "metadata": {},
   "outputs": [],
   "source": [
    "qty_max.to_csv('qty_max.csv')"
   ]
  },
  {
   "cell_type": "markdown",
   "id": "39dea147",
   "metadata": {},
   "source": [
    "# CONCLUSION"
   ]
  },
  {
   "cell_type": "markdown",
   "id": "a0a174c2",
   "metadata": {},
   "source": [
    "## What are the top 3 countries where customers buy from?"
   ]
  },
  {
   "cell_type": "markdown",
   "id": "dd14db03",
   "metadata": {},
   "source": [
    "The top 3 countries where customers buy from are:\n",
    "1. UK.\n",
    "2. Germany.\n",
    "3. France."
   ]
  },
  {
   "cell_type": "markdown",
   "id": "0ebba380",
   "metadata": {},
   "source": [
    "## What's the minimum and the maximum price that customers from these countries paid?"
   ]
  },
  {
   "cell_type": "markdown",
   "id": "f2c77733",
   "metadata": {},
   "source": [
    "When buying products, customers paid a minimum price of £5.13, as well as a maximum price of £660.62 overall the countries.\n",
    "In UK the minimum price the paid was £5.13 and the maximum price £660.62. In Germany the minimum price the paid was £5.34 and the maximum price £70.00. In France the minimum price the paid was £5.46 and the maximum price £54.27. "
   ]
  },
  {
   "cell_type": "markdown",
   "id": "868af814",
   "metadata": {},
   "source": [
    "## What was the average quantity, as well as the minimum and the maximum quantities that customers bought at once?"
   ]
  },
  {
   "cell_type": "markdown",
   "id": "7e2e9c2c",
   "metadata": {},
   "source": [
    "Customers buy on average 174 units of a single product at once (many of these buyers are small businesses who buy to resell on their own), the minimum units ever sold at once was -200 (it means that a purchase of 200 units was cancelled) and the maximum ever sold was 80995."
   ]
  }
 ],
 "metadata": {
  "kernelspec": {
   "display_name": "Python 3",
   "language": "python",
   "name": "python3"
  },
  "language_info": {
   "codemirror_mode": {
    "name": "ipython",
    "version": 3
   },
   "file_extension": ".py",
   "mimetype": "text/x-python",
   "name": "python",
   "nbconvert_exporter": "python",
   "pygments_lexer": "ipython3",
   "version": "3.6.9"
  }
 },
 "nbformat": 4,
 "nbformat_minor": 5
}
